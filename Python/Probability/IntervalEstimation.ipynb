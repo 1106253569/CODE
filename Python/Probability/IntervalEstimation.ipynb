{
 "cells": [
  {
   "cell_type": "code",
   "execution_count": 1,
   "metadata": {},
   "outputs": [
    {
     "name": "stdout",
     "output_type": "stream",
     "text": [
      "样本均值为： 6.0\n",
      "样本方差为： 0.29333333333333333\n",
      "U1-alpha/2为： 1.959963984540054\n",
      "置信区间为： (5.346678671819982, 6.653321328180018)\n"
     ]
    }
   ],
   "source": [
    "import scipy.stats as st\n",
    "import numpy as np\n",
    "import sympy\n",
    "\n",
    "x = [6.0, 5.7, 5.8, 6.5, 7.0, 6.3, 5.6, 6.1, 5.0]\n",
    "x1 = np.mean(x)\n",
    "print('样本均值为：', x1)\n",
    "n = len(x)\n",
    "s = 0\n",
    "for i in range(0, n):\n",
    "    k = x[i]\n",
    "    s = s + (k - x1)**2\n",
    "s = s / n\n",
    "print('样本方差为：', s)\n",
    "\n",
    "\n",
    "def norm(sigma, confidence):\n",
    "    alpha = 1 - confidence\n",
    "    u = st.norm.ppf(1 - alpha / 2)\n",
    "    lower = x1 - u * sigma / np.sqrt(n)\n",
    "    upper = x1 + u * sigma / np.sqrt(n)\n",
    "    return (lower, upper)\n",
    "\n",
    "\n",
    "a = norm(sigma=1, confidence=0.95)\n",
    "print(\"U1-alpha/2为：\", st.norm.ppf(1 - (1 - 0.95) / 2))\n",
    "print('置信区间为：', a)\n"
   ]
  },
  {
   "cell_type": "code",
   "execution_count": 1,
   "metadata": {},
   "outputs": [
    {
     "name": "stdout",
     "output_type": "stream",
     "text": [
      "样本均值为： 280.5\n",
      "样本方差为： 19.85\n",
      "t1-alpha/2为： 2.2621571627409915\n",
      "置信区间为： (273.4000827084207, 287.5999172915793)\n"
     ]
    }
   ],
   "source": [
    "import scipy.stats as st\n",
    "import numpy as np\n",
    "import sympy\n",
    "\n",
    "x = [280,278,276,284,276,285,276,278,290,282]\n",
    "x1 = np.mean(x)\n",
    "print('样本均值为：', x1)\n",
    "n = len(x)\n",
    "s = 0\n",
    "for i in range(0, n):\n",
    "    k = x[i]\n",
    "    s = s + (k - x1)**2\n",
    "s = s / n\n",
    "print('样本方差为：', s)\n",
    "\n",
    "\n",
    "def tfenbu(s, confidence):\n",
    "    alpha = 1 - confidence\n",
    "    t = st.t.ppf(1 - alpha / 2, n - 1)\n",
    "    lower = x1 - t * s**1 / 2 / np.sqrt(n)\n",
    "    upper = x1 + t * s**1 / 2 / np.sqrt(n)\n",
    "    return (lower, upper)\n",
    "\n",
    "\n",
    "a = tfenbu(s, confidence=0.95)\n",
    "print(\"t1-alpha/2为：\", st.t.ppf(1 - (1 - 0.95) / 2, n - 1))\n",
    "print('置信区间为：', a)\n"
   ]
  },
  {
   "cell_type": "code",
   "execution_count": 3,
   "metadata": {},
   "outputs": [
    {
     "name": "stdout",
     "output_type": "stream",
     "text": [
      "样本均值为： 6.678166666666666\n",
      "样本方差为： 1.247222222222256e-05\n",
      "第一问答案为： 11.070497693516351 1.145476226061769\n",
      "置信区间为： (5.633090113702457e-06, 5.444120942214127e-05)\n"
     ]
    }
   ],
   "source": [
    "import scipy.stats as st\n",
    "import numpy as np\n",
    "import sympy\n",
    "\n",
    "x = [6.683, 6.681, 6.676, 6.678, 6.679, 6.672]\n",
    "x1 = np.mean(x)\n",
    "print('样本均值为：', x1)\n",
    "n = len(x)\n",
    "s = 0\n",
    "for i in range(0, n):\n",
    "    k = x[i]\n",
    "    s = s + (k - x1)**2\n",
    "s = s / n\n",
    "print('样本方差为：', s)\n",
    "\n",
    "\n",
    "def kafang(s, confidence):\n",
    "    alpha = 1 - confidence\n",
    "    X1 = st.chi2.ppf(1 - alpha / 2, n - 1)\n",
    "    X2 = st.chi2.ppf(alpha / 2, n - 1)\n",
    "    lower = (n - 1) * s / X1\n",
    "    upper = (n - 1) * s / X2\n",
    "    print(\"第一问答案为：\", X1, X2)\n",
    "    return (lower, upper)\n",
    "\n",
    "\n",
    "a = kafang(s, confidence=0.9)\n",
    "print('置信区间为：', a)\n"
   ]
  },
  {
   "cell_type": "code",
   "execution_count": 4,
   "metadata": {},
   "outputs": [
    {
     "name": "stdout",
     "output_type": "stream",
     "text": [
      "样本均值为： 6.609999999999999\n",
      "第二问答案为： 102.69\n",
      "第一问答案为： 20.483177350807388 3.246972780236842\n",
      "置信区间为： (31.62638154068835, 5.013382359644132)\n"
     ]
    }
   ],
   "source": [
    "import scipy.stats as st\n",
    "import numpy as np\n",
    "import sympy\n",
    "\n",
    "x = [7.5, 2, 12.1, 8.8, 9.4, 7.3, 1.9, 2.8, 7, 7.3]\n",
    "x1 = np.mean(x)\n",
    "print('样本均值为：', x1)\n",
    "n = len(x)\n",
    "mu = 6.5\n",
    "h = 0\n",
    "for i in range(0, n):\n",
    "    k = x[i]\n",
    "    h = h + (k - mu)**2\n",
    "print('第二问答案为：', h)\n",
    "\n",
    "\n",
    "def kafang(confidence):\n",
    "    alpha = 1 - confidence\n",
    "    X1 = st.chi2.ppf(1 - alpha / 2, n)\n",
    "    X2 = st.chi2.ppf(alpha / 2, n)\n",
    "    lower = h / X2\n",
    "    upper = h / X1\n",
    "    print(\"第一问答案为：\", X1, X2)\n",
    "    return (lower, upper)\n",
    "\n",
    "\n",
    "a = kafang(confidence=0.95)\n",
    "print('置信区间为：', a)\n"
   ]
  },
  {
   "cell_type": "code",
   "execution_count": 5,
   "metadata": {},
   "outputs": [
    {
     "name": "stdout",
     "output_type": "stream",
     "text": [
      "甲,乙班样本均值为： 5.048 4.989999999999999\n",
      "甲，乙班样本方差为： 0.0008559999999999998 0.0007666666666666634\n",
      "F分布的分位数为： 16.143286781877798 5.48441855708793\n",
      "置信区间为： (0.06916322272016062, 0.20358069456377895)\n"
     ]
    }
   ],
   "source": [
    "import scipy.stats as st\n",
    "import numpy as np\n",
    "import sympy\n",
    "\n",
    "jia = [5.06, 5.08, 5.03, 5.00, 5.07]\n",
    "yi = [4.98, 5.03, 4.97, 4.99, 5.02, 4.95]\n",
    "x1 = np.mean(jia)\n",
    "x2 = np.mean(yi)\n",
    "print('甲,乙班样本均值为：', x1, x2)\n",
    "n1 = len(jia)\n",
    "n2 = len(yi)\n",
    "\n",
    "\n",
    "def fangcha(n, list, mu):\n",
    "    s2 = 0\n",
    "    for i in range(0, n):\n",
    "        k = list[i]\n",
    "        s2 = s2 + (k - mu)**2\n",
    "    s2 = s2 / n\n",
    "    return (s2)\n",
    "\n",
    "\n",
    "a = fangcha(n1, jia, x1)\n",
    "b = fangcha(n2, yi, x2)\n",
    "print('甲，乙班样本方差为：', a, b)\n",
    "\n",
    "\n",
    "def F(confidence):\n",
    "    alpha = 1 - confidence\n",
    "    f1 = st.chi2.ppf(1 - alpha / 2, n1 - 1, n2 - 1)\n",
    "    f2 = st.chi2.ppf(alpha / 2, n1 - 1, n2 - 1)\n",
    "    lower = a / b / f1\n",
    "    upper = a / b / f2\n",
    "    print(\"F分布的分位数为：\", f1, f2)\n",
    "    return (lower, upper)\n",
    "\n",
    "\n",
    "c = F(confidence=0.95)\n",
    "print('置信区间为：', c)\n"
   ]
  },
  {
   "cell_type": "code",
   "execution_count": 6,
   "metadata": {},
   "outputs": [
    {
     "name": "stdout",
     "output_type": "stream",
     "text": [
      "接受原假设\n",
      "p值>显著性水平alpha\n"
     ]
    }
   ],
   "source": [
    "import scipy.stats as st\n",
    "import numpy as np\n",
    "\n",
    "x = [19.8, 20.3, 20.4, 19.9, 20.2, 19.6, 20.5, 20.1]\n",
    "n = len(x)\n",
    "mean = np.mean(x)\n",
    "s2 = 0\n",
    "for i in range(0, 8):\n",
    "    k = x[i]\n",
    "    s2 = s2 + (k - mean)**2\n",
    "s2 = s2 / 8\n",
    "mu0 = 20\n",
    "\n",
    "\n",
    "def oneutest(sigma, alpha):\n",
    "    U0 = (mean - mu0) * np.sqrt(n) / sigma\n",
    "    U_percentile = st.norm.ppf(1 - alpha / 2)\n",
    "    if (abs(U0) < U_percentile):\n",
    "        print(\"接受原假设\")\n",
    "    else:\n",
    "        print(\"拒绝原假设\")\n",
    "    p1 = 2 - 2 * st.norm.cdf(U0)\n",
    "    if (p1 > alpha):\n",
    "        print(\"p值>显著性水平alpha\")\n",
    "    if (p1 == alpha):\n",
    "        print(\"p值=显著性水平alpha\")\n",
    "    if (p1 < alpha):\n",
    "        print(\"p值<显著性水平alpha\")\n",
    "\n",
    "\n",
    "oneutest(20, 0.05)"
   ]
  },
  {
   "cell_type": "code",
   "execution_count": 7,
   "metadata": {},
   "outputs": [
    {
     "name": "stdout",
     "output_type": "stream",
     "text": [
      "接受原假设\n",
      "p值>显著性水平alpha\n"
     ]
    }
   ],
   "source": [
    "import scipy.stats as st\n",
    "import numpy as np\n",
    "\n",
    "x = [19.8, 20.3, 20.4, 19.9, 20.2, 19.6, 20.5, 20.1]\n",
    "n = len(x)\n",
    "mean = np.mean(x)\n",
    "s2 = 0\n",
    "for i in range(0, 8):\n",
    "    k = x[i]\n",
    "    s2 = s2 + (k - mean)**2\n",
    "s2 = s2 / 8\n",
    "mu0 = 20\n",
    "\n",
    "\n",
    "def oneutest(sigma, alpha):\n",
    "    U0 = (mean - mu0) * np.sqrt(n) / sigma\n",
    "    U_percentile = st.norm.ppf(1 - alpha / 2)\n",
    "    if (abs(U0) < U_percentile):\n",
    "        print(\"接受原假设\")\n",
    "    else:\n",
    "        print(\"拒绝原假设\")\n",
    "    p1 = 2 - 2 * st.norm.cdf(U0)\n",
    "    if (p1 > alpha):\n",
    "        print(\"p值>显著性水平alpha\")\n",
    "    if (p1 == alpha):\n",
    "        print(\"p值=显著性水平alpha\")\n",
    "    if (p1 < alpha):\n",
    "        print(\"p值<显著性水平alpha\")\n",
    "\n",
    "\n",
    "oneutest(20, 0.05)\n"
   ]
  },
  {
   "cell_type": "code",
   "execution_count": 2,
   "metadata": {},
   "outputs": [
    {
     "name": "stdout",
     "output_type": "stream",
     "text": [
      "μ置信区间: ( 14.765024021015012 15.057198201207207 )\n"
     ]
    }
   ],
   "source": [
    "import scipy.stats as stimport\n",
    "import numpy as np\n",
    "\n",
    "data = [14.6, 15.1, 14.9, 14.8, 15.2, 15.1, 14.8, 15.0, 14.7]\n",
    "l = len(data)\n",
    "alpha = 0.05\n",
    "U = st.norm.ppf(1 - alpha / 2)\n",
    "M1 = np.mean(data)\n",
    "s = 0\n",
    "for i in range(0, 1):\n",
    "    k = data[i]\n",
    "    s = s + (k - M1) * (k - M1)\n",
    "    M2 = s / (l - 1)\n",
    "s1 = M1 - U * np.sqrt(0.05) / np.sqrt(l)\n",
    "s2 = M1 + U * np.sqrt(0.05) / np.sqrt(l)\n",
    "print(\"μ置信区间:\", \"(\", s1, s2, \")\")\n"
   ]
  }
 ],
 "metadata": {
  "kernelspec": {
   "display_name": "Python 3.9.7 ('base')",
   "language": "python",
   "name": "python3"
  },
  "language_info": {
   "codemirror_mode": {
    "name": "ipython",
    "version": 3
   },
   "file_extension": ".py",
   "mimetype": "text/x-python",
   "name": "python",
   "nbconvert_exporter": "python",
   "pygments_lexer": "ipython3",
   "version": "3.9.7"
  },
  "orig_nbformat": 4,
  "vscode": {
   "interpreter": {
    "hash": "b09ec625f77bf4fd762565a912b97636504ad6ec901eb2d0f4cf5a7de23e1ee5"
   }
  }
 },
 "nbformat": 4,
 "nbformat_minor": 2
}
