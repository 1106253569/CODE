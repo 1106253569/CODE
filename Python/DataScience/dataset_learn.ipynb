{
 "cells": [
  {
   "cell_type": "code",
   "execution_count": 2,
   "metadata": {},
   "outputs": [
    {
     "name": "stdout",
     "output_type": "stream",
     "text": [
      "C:\\Users\\11062\n"
     ]
    }
   ],
   "source": [
    "import os\n",
    "\n",
    "print(os.path.expanduser(\"~\"))"
   ]
  },
  {
   "cell_type": "code",
   "execution_count": 3,
   "metadata": {},
   "outputs": [
    {
     "name": "stdout",
     "output_type": "stream",
     "text": [
      "The accuracy is 94.8%\n",
      "The average accuracy is 95.1%\n"
     ]
    }
   ],
   "source": [
    "import numpy as np\n",
    "import csv\n",
    "from sklearn.model_selection import train_test_split\n",
    "from sklearn.model_selection import cross_val_score\n",
    "from sklearn.neighbors import KNeighborsClassifier\n",
    "from matplotlib import pyplot as plt\n",
    "\n",
    "data_filename = 'D:\\\\CODE\\\\Dataset\\\\letter-recognition\\\\letter-recognition.data'\n",
    "y = np.zeros((20000, ), dtype='str')\n",
    "X = np.zeros((20000, 16), dtype='float')\n",
    "\n",
    "with open(data_filename, 'r') as input_file:\n",
    "    reader = csv.reader(input_file)\n",
    "    for i, row in enumerate(reader):\n",
    "        data = [float(datum) for datum in row[1:]]\n",
    "        X[i] = data\n",
    "        y[i] = row[0]\n",
    "\n",
    "X_train, X_test, y_train, y_test = train_test_split(X, y, random_state=16)\n",
    "estimator = KNeighborsClassifier()\n",
    "estimator.fit(X_train, y_train)\n",
    "y_predicted = estimator.predict(X_test)\n",
    "accuracy = np.mean(y_test == y_predicted) * 100\n",
    "print(\"The accuracy is {0:.1f}%\".format(accuracy))\n",
    "\n",
    "scores = cross_val_score(estimator, X, y, scoring='accuracy')\n",
    "average_accuracy = np.mean(scores) * 100\n",
    "print(\"The average accuracy is {0:.1f}%\".format(average_accuracy))"
   ]
  },
  {
   "cell_type": "code",
   "execution_count": 7,
   "metadata": {},
   "outputs": [
    {
     "name": "stdout",
     "output_type": "stream",
     "text": [
      "The original average accuracy for is 95.1%\n",
      "The 'broken' average accuracy for is 85.6%\n",
      "The average accuracy for is 95.2%\n",
      "The pipeline scored an average accuracy for is 95.2%\n"
     ]
    }
   ],
   "source": [
    "from sklearn.preprocessing import MinMaxScaler\n",
    "from sklearn.pipeline import Pipeline\n",
    "\n",
    "X_broken = np.array(X)\n",
    "X_broken[:, ::2] /= 10  #每隔一行，,把第二个特征的值除以10\n",
    "estimator = KNeighborsClassifier()\n",
    "original_scores = cross_val_score(estimator, X, y, scoring='accuracy')\n",
    "print(\"The original average accuracy for is {0:.1f}%\".format(\n",
    "    np.mean(original_scores) * 100))\n",
    "broken_scores = cross_val_score(estimator, X_broken, y, scoring='accuracy')\n",
    "print(\"The 'broken' average accuracy for is {0:.1f}%\".format(\n",
    "    np.mean(broken_scores) * 100))\n",
    "X_tranformed = MinMaxScaler().fit_transform(X_broken)\n",
    "transformed_score = cross_val_score(estimator,\n",
    "                                    X_tranformed,\n",
    "                                    y,\n",
    "                                    scoring='accuracy')\n",
    "print(\"The average accuracy for is {0:.1f}%\".format(\n",
    "    np.mean(transformed_score * 100)))\n",
    "scaling_pipeline = Pipeline([('scale', MinMaxScaler()),\n",
    "                             ('predict', KNeighborsClassifier())])\n",
    "scores = cross_val_score(scaling_pipeline, X_broken, y, scoring='accuracy')\n",
    "print(\"The pipeline scored an average accuracy for is {0:.1f}%\".format(\n",
    "    np.mean(scores) * 100))\n"
   ]
  }
 ],
 "metadata": {
  "kernelspec": {
   "display_name": "Python 3.9.7 ('base')",
   "language": "python",
   "name": "python3"
  },
  "language_info": {
   "codemirror_mode": {
    "name": "ipython",
    "version": 3
   },
   "file_extension": ".py",
   "mimetype": "text/x-python",
   "name": "python",
   "nbconvert_exporter": "python",
   "pygments_lexer": "ipython3",
   "version": "3.9.7"
  },
  "orig_nbformat": 4,
  "vscode": {
   "interpreter": {
    "hash": "b09ec625f77bf4fd762565a912b97636504ad6ec901eb2d0f4cf5a7de23e1ee5"
   }
  }
 },
 "nbformat": 4,
 "nbformat_minor": 2
}
