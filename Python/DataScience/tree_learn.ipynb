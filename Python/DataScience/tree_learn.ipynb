{
 "cells": [
  {
   "cell_type": "code",
   "execution_count": 19,
   "metadata": {},
   "outputs": [],
   "source": [
    "import pandas as pd\n",
    "from collections import defaultdict\n",
    "from sklearn.model_selection import cross_val_score\n",
    "from sklearn.tree import DecisionTreeClassifier\n",
    "import numpy as np\n",
    "import os\n",
    "\n",
    "data_filename = \"D:\\\\CODE\\\\Dataset\\\\basketball2016.csv\"\n",
    "dataset = pd.read_csv(data_filename, parse_dates=[\"Date\"])\n",
    "dataset.columns = [\n",
    "    \"Date\", \"Start\", \"VisitorTeam\", \"Visitor\", \"HomeTeam\", \"Home\",\n",
    "    \"Score Type\", \"OT?\", \"Attend\", \"Arena\", \"Notes\"\n",
    "]  # type: ignore\n",
    "\n",
    "dataset[\"HomeWin\"] = dataset[\"Visitor\"] < dataset[\"Home\"]\n",
    "y_true = dataset[\"HomeWin\"].values"
   ]
  },
  {
   "cell_type": "code",
   "execution_count": 20,
   "metadata": {},
   "outputs": [
    {
     "name": "stdout",
     "output_type": "stream",
     "text": [
      "Accuracy: 64.620462%\n"
     ]
    }
   ],
   "source": [
    "won_list = defaultdict(bool)\n",
    "for index, row in dataset.iterrows():\n",
    "    home_team = row[\"Home\"]\n",
    "    visitor_team = row[\"Visitor\"]\n",
    "    row[\"HomeLastWin\"] = won_list[home_team]\n",
    "    row[\"VisitorLastWin\"] = won_list[visitor_team]\n",
    "    dataset.loc[index, \"HomeLastWin\"] = row[\"HomeLastWin\"]\n",
    "    dataset.loc[index, \"VisitorLastWin\"] = row[\"VisitorLastWin\"]\n",
    "    dataset.loc[index] = row\n",
    "    won_list[home_team] = row.HomeWin\n",
    "    won_list[visitor_team] = not row.HomeWin\n",
    "\n",
    "clf = DecisionTreeClassifier(random_state=14)\n",
    "X_previonswins = dataset[[\"HomeLastWin\", \"VisitorLastWin\"]].values\n",
    "scores = cross_val_score(clf, X_previonswins, y_true, scoring='accuracy')\n",
    "print(\"Accuracy: {0:1f}%\".format(np.mean(scores) * 100))"
   ]
  },
  {
   "cell_type": "code",
   "execution_count": 21,
   "metadata": {},
   "outputs": [
    {
     "name": "stdout",
     "output_type": "stream",
     "text": [
      "Accuracy: 65.410600%\n",
      "Accuracy: 65.991070%\n"
     ]
    }
   ],
   "source": [
    "standing_filename = \"D:\\\\CODE\\\\Dataset\\\\basketball2015.csv\"\n",
    "standing = pd.read_csv(standing_filename)\n",
    "dataset[\"HomeTeamRanksHigher\"] = 0\n",
    "for index, row in dataset.iterrows():\n",
    "    home_team = row[\"HomeTeam\"]\n",
    "    visitor_team = row[\"VisitorTeam\"]\n",
    "    home_rank = standing[standing[\"Team\"] == home_team].Rk.values[0]\n",
    "    visitor_rank = standing[standing[\"Team\"] == visitor_team].Rk.values[0]\n",
    "    if home_rank != None:\n",
    "        row[\"HomeTeamRanksHigher\"] = home_rank > visitor_rank\n",
    "    else:\n",
    "        row[\"HomeTeamRanksHigher\"] = False\n",
    "    dataset.loc[index, \"HomeTeamRanksHigher\"] = row[\"HomeTeamRanksHigher\"]\n",
    "    dataset.loc[index] = row\n",
    "\n",
    "X_homehigher = dataset[[\n",
    "    \"HomeLastWin\", \"VisitorLastWin\", \"HomeTeamRanksHigher\"\n",
    "]].values\n",
    "clf = DecisionTreeClassifier(random_state=14)\n",
    "scores = cross_val_score(clf, X_homehigher, y_true, scoring='accuracy')\n",
    "print(\"Accuracy: {0:1f}%\".format(np.mean(scores) * 100))\n",
    "\n",
    "last_match_winner = defaultdict(int)\n",
    "dataset[\"HomeTeamWonlast\"] = 0\n",
    "for index, row in dataset.iterrows():\n",
    "    home_team = row[\"HomeTeam\"]\n",
    "    visitor_team = row[\"VisitorTeam\"]\n",
    "    teams = tuple(sorted([home_team, visitor_team]))  # type: ignore\n",
    "    if last_match_winner[teams] == row[\"HomeTeam\"]:\n",
    "        row[\"HomeTeamWonLast\"] = 1\n",
    "    else:\n",
    "        row[\"HomeTeamWonLast\"] = 0\n",
    "    dataset.loc[index, \"HomeTeamWonlast\"] = row[\"HomeTeamWonLast\"]\n",
    "    if row[\"HomeWin\"]:\n",
    "        winner = row[\"HomeTeam\"]\n",
    "    else:\n",
    "        winner = row[\"VisitorTeam\"]\n",
    "    last_match_winner[teams] = winner  # type: ignore\n",
    "X_lastwinner = dataset[[\"HomeTeamRanksHigher\", \"HomeTeamWonlast\"]].values\n",
    "clf = DecisionTreeClassifier(random_state=14)\n",
    "scores = cross_val_score(clf, X_lastwinner, y_true, scoring='accuracy')\n",
    "print(\"Accuracy: {0:1f}%\".format(np.mean(scores) * 100))"
   ]
  },
  {
   "cell_type": "code",
   "execution_count": 22,
   "metadata": {},
   "outputs": [
    {
     "name": "stdout",
     "output_type": "stream",
     "text": [
      "Accuracy: 58.893419%\n"
     ]
    }
   ],
   "source": [
    "from sklearn.preprocessing import LabelEncoder\n",
    "from sklearn.preprocessing import OneHotEncoder\n",
    "\n",
    "encoding = LabelEncoder()\n",
    "encoding.fit(dataset[\"HomeTeam\"].values)\n",
    "home_team = encoding.transform(dataset[\"HomeTeam\"].values)\n",
    "visitor_team = encoding.transform(dataset[\"VisitorTeam\"].values)\n",
    "X_teams = np.vstack([home_team, visitor_team]).T\n",
    "onehot = OneHotEncoder()\n",
    "X_teams_expanded = onehot.fit_transform(X_teams).todense()\n",
    "clf = DecisionTreeClassifier(random_state=14)\n",
    "scores = cross_val_score(clf, X_teams_expanded, y_true, scoring='accuracy')\n",
    "print(\"Accuracy: {0:1f}%\".format(np.mean(scores) * 100))"
   ]
  },
  {
   "cell_type": "code",
   "execution_count": 23,
   "metadata": {},
   "outputs": [
    {
     "name": "stdout",
     "output_type": "stream",
     "text": [
      "Accuracy: 60.275675%\n",
      "Accuracy: 62.838284%\n",
      "Accuracy: 65.204815%\n",
      "RandomForestClassifier(max_features=5, min_samples_leaf=4, random_state=14)\n"
     ]
    }
   ],
   "source": [
    "from sklearn.ensemble import RandomForestClassifier\n",
    "from sklearn.model_selection import GridSearchCV\n",
    "\n",
    "clf = RandomForestClassifier(random_state=14)\n",
    "scores = cross_val_score(clf, X_teams, y_true, scoring='accuracy')\n",
    "print(\"Accuracy: {0:1f}%\".format(np.mean(scores) * 100))\n",
    "\n",
    "X_all = np.hstack([X_homehigher, X_teams])\n",
    "scores = cross_val_score(clf, X_all, y_true, scoring='accuracy')\n",
    "print(\"Accuracy: {0:1f}%\".format(np.mean(scores) * 100))\n",
    "\n",
    "parameter_space = {\n",
    "    \"max_features\": [2, 5, 'auto'],\n",
    "    \"n_estimators\": [\n",
    "        100,\n",
    "    ],\n",
    "    \"min_samples_leaf\": [2, 4, 6],\n",
    "}\n",
    "grid = GridSearchCV(clf, parameter_space)\n",
    "grid.fit(X_all, y_true)\n",
    "print(\"Accuracy: {0:1f}%\".format(grid.best_score_ * 100))\n",
    "print(grid.best_estimator_)"
   ]
  }
 ],
 "metadata": {
  "kernelspec": {
   "display_name": "Python 3.9.7 ('base')",
   "language": "python",
   "name": "python3"
  },
  "language_info": {
   "codemirror_mode": {
    "name": "ipython",
    "version": 3
   },
   "file_extension": ".py",
   "mimetype": "text/x-python",
   "name": "python",
   "nbconvert_exporter": "python",
   "pygments_lexer": "ipython3",
   "version": "3.9.7 (default, Sep 16 2021, 16:59:28) [MSC v.1916 64 bit (AMD64)]"
  },
  "orig_nbformat": 4,
  "vscode": {
   "interpreter": {
    "hash": "b09ec625f77bf4fd762565a912b97636504ad6ec901eb2d0f4cf5a7de23e1ee5"
   }
  }
 },
 "nbformat": 4,
 "nbformat_minor": 2
}
