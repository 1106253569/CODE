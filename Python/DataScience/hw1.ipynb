{
 "cells": [
  {
   "cell_type": "code",
   "execution_count": 108,
   "metadata": {},
   "outputs": [
    {
     "name": "stdout",
     "output_type": "stream",
     "text": [
      "220\n"
     ]
    }
   ],
   "source": [
    "def factorial(n):\n",
    "    n_sum = 0\n",
    "    for i in range(n + 1):\n",
    "        n_sum += i\n",
    "    return n_sum\n",
    "\n",
    "\n",
    "res = 0\n",
    "for i in range(11):\n",
    "    res += factorial(i)\n",
    "\n",
    "print(res)"
   ]
  },
  {
   "cell_type": "code",
   "execution_count": 109,
   "metadata": {},
   "outputs": [
    {
     "name": "stdout",
     "output_type": "stream",
     "text": [
      "转化结果为:\n",
      "[[11 11 46 24]\n",
      " [47 21 23 24]\n",
      " [44 43 43 17]\n",
      " [14 11 38 47]]\n",
      "第1、2行中第0、2、3列的元素:\n",
      "47 23 24 \n",
      "44 43 17 \n",
      "排序结果为:\n",
      "11 14 17 21 23 24 38 43 44 46 100 "
     ]
    }
   ],
   "source": [
    "import random\n",
    "import numpy as np\n",
    "\n",
    "s = []\n",
    "for n in range(16):\n",
    "    s.append(random.randint(10, 50))\n",
    "\n",
    "#转化为矩阵\n",
    "a = np.asarray(s)\n",
    "a = a.reshape(4, 4)\n",
    "print(\"转化结果为:\")\n",
    "print(a)\n",
    "\n",
    "print(\"第1、2行中第0、2、3列的元素:\")\n",
    "for i in [1, 2]:\n",
    "    for j in [0, 2, 3]:\n",
    "        print(a[i][j], end=' ')\n",
    "    print()\n",
    "\n",
    "s = list(set(s))\n",
    "s.sort()\n",
    "s[-1] = 100\n",
    "\n",
    "print(\"排序结果为:\")\n",
    "for i in s:\n",
    "    print(i, end=' ')\n"
   ]
  },
  {
   "cell_type": "code",
   "execution_count": 110,
   "metadata": {},
   "outputs": [
    {
     "name": "stdout",
     "output_type": "stream",
     "text": [
      "导入数据:\n",
      "[[77. 81. 39. 84. 70. 82. 45. 78.]\n",
      " [80. 34. 45. 58. 31. 79. 73. 24.]\n",
      " [52. 26. 46. 46. 76. 69. 63. 30.]\n",
      " [32. 48. 16. 66. 44. 96. 70. 10.]\n",
      " [70. 75. 57. 11. 98. 62. 65. 95.]\n",
      " [61. 42. 37. 84. 54. 92. 29. 35.]]\n"
     ]
    }
   ],
   "source": [
    "import numpy as np\n",
    "\n",
    "a = np.random.randint(10, 99, 6 * 8)\n",
    "a = a.reshape(6, 8)\n",
    "\n",
    "np.savetxt(\"hw1.txt\", a)\n",
    "print(\"导入数据:\")\n",
    "print(np.loadtxt(\"hw1.txt\"))"
   ]
  },
  {
   "cell_type": "code",
   "execution_count": 111,
   "metadata": {},
   "outputs": [
    {
     "name": "stdout",
     "output_type": "stream",
     "text": [
      "按横轴求和结果为:\n",
      "[15 40 65 90]\n",
      "按纵轴求标准差结果为:\n",
      "[5.59016994 5.59016994 5.59016994 5.59016994 5.59016994]\n",
      "求每行平均数为:\n",
      "[ 3.  8. 13. 18.]\n"
     ]
    }
   ],
   "source": [
    "import numpy as np\n",
    "\n",
    "a = np.arange(1, 20 + 1, 1)\n",
    "a = a.reshape(4, 5)\n",
    "\n",
    "print(\"按横轴求和结果为:\")\n",
    "print(np.sum(a, axis=1))\n",
    "\n",
    "print(\"按纵轴求标准差结果为:\")\n",
    "print(np.std(a, axis=0))\n",
    "\n",
    "print(\"求每行平均数为:\")\n",
    "print(np.mean(a, axis=1))"
   ]
  },
  {
   "cell_type": "code",
   "execution_count": 112,
   "metadata": {},
   "outputs": [
    {
     "name": "stdout",
     "output_type": "stream",
     "text": [
      "[[1. 1. 1. 1. 1. 1. 1. 1. 1. 1.]\n",
      " [1. 0. 0. 0. 0. 0. 0. 0. 0. 1.]\n",
      " [1. 0. 0. 0. 0. 0. 0. 0. 0. 1.]\n",
      " [1. 0. 0. 0. 0. 0. 0. 0. 0. 1.]\n",
      " [1. 0. 0. 0. 0. 0. 0. 0. 0. 1.]\n",
      " [1. 0. 0. 0. 0. 0. 0. 0. 0. 1.]\n",
      " [1. 0. 0. 0. 0. 0. 0. 0. 0. 1.]\n",
      " [1. 0. 0. 0. 0. 0. 0. 0. 0. 1.]\n",
      " [1. 0. 0. 0. 0. 0. 0. 0. 0. 1.]\n",
      " [1. 1. 1. 1. 1. 1. 1. 1. 1. 1.]]\n"
     ]
    }
   ],
   "source": [
    "import numpy as np\n",
    "\n",
    "#创建全零数组\n",
    "a=np.zeros(10*10)\n",
    "a=a.reshape(10,10)\n",
    "\n",
    "for i in [0,-1]:\n",
    "    a[i,:]=1\n",
    "    a[:,i]=1\n",
    "\n",
    "#更改后结果\n",
    "print(a)"
   ]
  }
 ],
 "metadata": {
  "kernelspec": {
   "display_name": "Python 3.9.7 ('base')",
   "language": "python",
   "name": "python3"
  },
  "language_info": {
   "codemirror_mode": {
    "name": "ipython",
    "version": 3
   },
   "file_extension": ".py",
   "mimetype": "text/x-python",
   "name": "python",
   "nbconvert_exporter": "python",
   "pygments_lexer": "ipython3",
   "version": "3.9.7"
  },
  "orig_nbformat": 4,
  "vscode": {
   "interpreter": {
    "hash": "b09ec625f77bf4fd762565a912b97636504ad6ec901eb2d0f4cf5a7de23e1ee5"
   }
  }
 },
 "nbformat": 4,
 "nbformat_minor": 2
}
