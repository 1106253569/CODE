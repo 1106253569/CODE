{
 "cells": [
  {
   "cell_type": "code",
   "execution_count": 10,
   "metadata": {},
   "outputs": [
    {
     "name": "stdout",
     "output_type": "stream",
     "text": [
      "     total_bill   tip     sex smoker   day    time  size\n",
      "0         16.99  1.01  Female     No   Sun  Dinner     2\n",
      "1         10.34  1.66    Male     No   Sun  Dinner     3\n",
      "2         21.01  3.50    Male     No   Sun  Dinner     3\n",
      "3         23.68  3.31    Male     No   Sun  Dinner     2\n",
      "4         24.59  3.61  Female     No   Sun  Dinner     4\n",
      "..          ...   ...     ...    ...   ...     ...   ...\n",
      "239       29.03  5.92    Male     No   Sat  Dinner     3\n",
      "240       27.18  2.00  Female    Yes   Sat  Dinner     2\n",
      "241       22.67  2.00    Male    Yes   Sat  Dinner     2\n",
      "242       17.82  1.75    Male     No   Sat  Dinner     2\n",
      "243       18.78  3.00  Female     No  Thur  Dinner     2\n",
      "\n",
      "[244 rows x 7 columns]\n"
     ]
    }
   ],
   "source": [
    "import pandas as pd\n",
    "\n",
    "tb = pd.read_excel('tips.xls')\n",
    "print(tb)\n"
   ]
  },
  {
   "cell_type": "code",
   "execution_count": 1,
   "metadata": {},
   "outputs": [
    {
     "name": "stdout",
     "output_type": "stream",
     "text": [
      "   total_bill   tip     sex smoker 聚餐时间   星期  size\n",
      "0       16.99  1.01  Female     No  Din  Sun     2\n",
      "1       10.34  1.66    Male     No  Din  Sun     3\n",
      "2       21.01  3.50    Male     No  Din  Sun     3\n",
      "3       23.68  3.31    Male     No  Din  Sun     2\n",
      "4       24.59  3.61  Female     No  Din  Sun     4\n"
     ]
    }
   ],
   "source": [
    "import pandas as pd\n",
    "\n",
    "tb = pd.read_excel('tips.xls')\n",
    "#替换数据\n",
    "tb = tb.replace(['Dinner', 'Lunch'], ['Din', 'Lun'])\n",
    "#交换对应列位置\n",
    "tb[['day', 'time']] = tb[['time', 'day']]\n",
    "tb.rename(columns={'day': '聚餐时间', 'time': '星期'}, inplace=True)\n",
    "print(tb.head())"
   ]
  },
  {
   "cell_type": "code",
   "execution_count": 12,
   "metadata": {},
   "outputs": [
    {
     "name": "stdout",
     "output_type": "stream",
     "text": [
      "     total_bill    tip   sex smoker   day    time  size\n",
      "23        39.42   7.58  Male     No   Sat  Dinner     4\n",
      "59        48.27   6.73  Male     No   Sat  Dinner     4\n",
      "141       34.30   6.70  Male     No  Thur   Lunch     6\n",
      "170       50.81  10.00  Male    Yes   Sat  Dinner     3\n",
      "183       23.17   6.50  Male    Yes   Sun  Dinner     4\n",
      "212       48.33   9.00  Male     No   Sat  Dinner     4\n"
     ]
    }
   ],
   "source": [
    "import pandas as pd\n",
    "\n",
    "tb = pd.read_excel('tips.xls')\n",
    "temp = tb[(tb.tip > 6) & (tb.sex == 'Male')]\n",
    "print(temp)"
   ]
  },
  {
   "cell_type": "code",
   "execution_count": 13,
   "metadata": {},
   "outputs": [
    {
     "name": "stdout",
     "output_type": "stream",
     "text": [
      "                  sum      mean\n",
      "                  tip       tip\n",
      "sex    time                    \n",
      "Female Dinner  156.11  3.002115\n",
      "       Lunch    90.40  2.582857\n",
      "Male   Dinner  389.96  3.144839\n",
      "       Lunch    95.11  2.882121\n"
     ]
    }
   ],
   "source": [
    "import pandas as pd\n",
    "import numpy as np\n",
    "\n",
    "tb = pd.read_excel('tips.xls')\n",
    "temp = pd.pivot_table(tb,\n",
    "                      index=['sex', 'time'],\n",
    "                      values='tip',\n",
    "                      aggfunc=[np.sum, np.mean])\n",
    "print(temp)"
   ]
  },
  {
   "cell_type": "code",
   "execution_count": 14,
   "metadata": {},
   "outputs": [
    {
     "name": "stdout",
     "output_type": "stream",
     "text": [
      "                人数     sum      小费均值\n",
      "               tip     tip       tip\n",
      "sex    time                         \n",
      "Female Dinner   52  156.11  3.002115\n",
      "       Lunch    35   90.40  2.582857\n",
      "Male   Dinner  124  389.96  3.144839\n",
      "       Lunch    33   95.11  2.882121\n"
     ]
    }
   ],
   "source": [
    "import pandas as pd\n",
    "import numpy as np\n",
    "\n",
    "tb = pd.read_excel('tips.xls')\n",
    "temp = pd.pivot_table(tb,\n",
    "                      index=['sex', 'time'],\n",
    "                      values='tip',\n",
    "                      aggfunc=[len, np.sum, np.mean])\n",
    "temp.rename(columns={'len': '人数', 'mean': '小费均值'}, inplace=True)\n",
    "print(temp)"
   ]
  },
  {
   "cell_type": "code",
   "execution_count": 15,
   "metadata": {},
   "outputs": [
    {
     "name": "stdout",
     "output_type": "stream",
     "text": [
      "     total_bill    tip   sex smoker  day    time  size\n",
      "182       45.35   3.50  Male    Yes  Sun  Dinner     3\n",
      "156       48.17   5.00  Male     No  Sun  Dinner     6\n",
      "59        48.27   6.73  Male     No  Sat  Dinner     4\n",
      "212       48.33   9.00  Male     No  Sat  Dinner     4\n",
      "170       50.81  10.00  Male    Yes  Sat  Dinner     3\n"
     ]
    }
   ],
   "source": [
    "import pandas as pd\n",
    "import numpy as np\n",
    "\n",
    "tb = pd.read_excel('tips.xls')\n",
    "temp = tb.sort_values(by='total_bill')\n",
    "print(temp.tail())"
   ]
  },
  {
   "cell_type": "code",
   "execution_count": 21,
   "metadata": {},
   "outputs": [
    {
     "data": {
      "text/plain": [
       "<AxesSubplot:xlabel='sex'>"
      ]
     },
     "execution_count": 21,
     "metadata": {},
     "output_type": "execute_result"
    },
    {
     "data": {
      "image/png": "[encoded data removed]",
      "text/plain": [
       "<Figure size 432x288 with 1 Axes>"
      ]
     },
     "metadata": {
      "needs_background": "light"
     },
     "output_type": "display_data"
    }
   ],
   "source": [
    "import pandas as pd\n",
    "import numpy as np\n",
    "\n",
    "tb = pd.read_excel('tips.xls')\n",
    "temp = pd.pivot_table(tb,\n",
    "                      index=['sex'],\n",
    "                      values='total_bill',\n",
    "                      aggfunc=[np.sum, np.mean])\n",
    "temp['mean'].plot.bar()"
   ]
  },
  {
   "cell_type": "code",
   "execution_count": 17,
   "metadata": {},
   "outputs": [
    {
     "data": {
      "text/plain": [
       "<AxesSubplot:xlabel='time'>"
      ]
     },
     "execution_count": 17,
     "metadata": {},
     "output_type": "execute_result"
    },
    {
     "data": {
      "image/png": "[encoded data removed]",
      "text/plain": [
       "<Figure size 432x288 with 1 Axes>"
      ]
     },
     "metadata": {
      "needs_background": "light"
     },
     "output_type": "display_data"
    },
    {
     "data": {
      "image/png": "[encoded data removed]",
      "text/plain": [
       "<Figure size 432x288 with 1 Axes>"
      ]
     },
     "metadata": {
      "needs_background": "light"
     },
     "output_type": "display_data"
    },
    {
     "data": {
      "image/png": "[encoded data removed]",
      "text/plain": [
       "<Figure size 432x288 with 1 Axes>"
      ]
     },
     "metadata": {
      "needs_background": "light"
     },
     "output_type": "display_data"
    }
   ],
   "source": [
    "import pandas as pd\n",
    "import numpy as np\n",
    "\n",
    "tb = pd.read_excel('tips.xls')\n",
    "temp = pd.pivot_table(tb, index=['time'], values=['total_bill', 'tip'])\n",
    "temp.plot.bar()\n",
    "temp.plot.bar(y='tip')\n",
    "temp.plot.bar(y='total_bill')"
   ]
  }
 ],
 "metadata": {
  "kernelspec": {
   "display_name": "Python 3.9.7 ('base')",
   "language": "python",
   "name": "python3"
  },
  "language_info": {
   "codemirror_mode": {
    "name": "ipython",
    "version": 3
   },
   "file_extension": ".py",
   "mimetype": "text/x-python",
   "name": "python",
   "nbconvert_exporter": "python",
   "pygments_lexer": "ipython3",
   "version": "3.9.7"
  },
  "orig_nbformat": 4,
  "vscode": {
   "interpreter": {
    "hash": "b09ec625f77bf4fd762565a912b97636504ad6ec901eb2d0f4cf5a7de23e1ee5"
   }
  }
 },
 "nbformat": 4,
 "nbformat_minor": 2
}
