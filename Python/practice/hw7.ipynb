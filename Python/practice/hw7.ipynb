{
 "cells": [
  {
   "cell_type": "code",
   "execution_count": 26,
   "metadata": {},
   "outputs": [
    {
     "name": "stdout",
     "output_type": "stream",
     "text": [
      "2022-09-09 18:37:16\n",
      "2022-09-09 18:37:16\n"
     ]
    }
   ],
   "source": [
    "import time\n",
    "import pandas as pd\n",
    "import numpy as np\n",
    "from datetime import datetime, timedelta\n",
    "\n",
    "value = \"2022-9-1 8:24:36\"\n",
    "st = time.strptime(value, '%Y-%m-%d %X')\n",
    "before = time.mktime(st) + 24 * 60 * 60 * 8 + 60 * 60 * 10 + 12 * 60 + 40\n",
    "st1 = time.strftime('%Y-%m-%d %X', time.localtime(before))\n",
    "print(st1)\n",
    "date = datetime.strptime(value, '%Y-%m-%d %X')\n",
    "print(date + timedelta(days=8, hours=10, minutes=12, seconds=40))\n"
   ]
  },
  {
   "cell_type": "code",
   "execution_count": 31,
   "metadata": {},
   "outputs": [
    {
     "name": "stdout",
     "output_type": "stream",
     "text": [
      "2021-09-10    1\n",
      "2021-09-15    2\n",
      "2021-10-10    3\n",
      "2021-10-15    4\n",
      "2021-11-10    5\n",
      "2021-11-15    6\n",
      "dtype: int32\n",
      "(1)---------\n",
      "True\n",
      "(2)---------\n",
      "2021-10-15    4\n",
      "2021-11-10    5\n",
      "2021-11-15    6\n",
      "dtype: int32\n",
      "(3)---------\n",
      "2021-09-10    1\n",
      "2021-09-15    2\n",
      "2021-10-10    3\n",
      "2021-10-15    4\n",
      "2021-11-10    5\n",
      "2021-11-15    6\n",
      "dtype: int32\n",
      "2021-09-10    1\n",
      "2021-09-15    2\n",
      "dtype: int32\n"
     ]
    }
   ],
   "source": [
    "w_dates = [\n",
    "    datetime(2021, 9, 10),\n",
    "    datetime(2021, 9, 15),\n",
    "    datetime(2021, 10, 10),\n",
    "    datetime(2021, 10, 15),\n",
    "    datetime(2021, 11, 10),\n",
    "    datetime(2021, 11, 15)\n",
    "]\n",
    "s = pd.Series(np.arange(1, 7), index=w_dates)\n",
    "print(s, end=\"\\n(1)---------\\n\")\n",
    "print(s.index.is_unique, end=\"\\n(2)---------\\n\")\n",
    "print(s[3:], end=\"\\n(3)---------\\n\")\n",
    "print(s['2021'])\n",
    "print(s['2021-9'])"
   ]
  },
  {
   "cell_type": "code",
   "execution_count": 22,
   "metadata": {},
   "outputs": [
    {
     "name": "stdout",
     "output_type": "stream",
     "text": [
      "DatetimeIndex(['2022-08-31 06:30:00', '2022-08-31 10:45:00',\n",
      "               '2022-08-31 15:00:00', '2022-08-31 19:15:00',\n",
      "               '2022-08-31 23:30:00', '2022-09-01 03:45:00',\n",
      "               '2022-09-01 08:00:00', '2022-09-01 12:15:00'],\n",
      "              dtype='datetime64[ns]', freq='255T')\n"
     ]
    }
   ],
   "source": [
    "index = pd.date_range(end='2022-9-1 12:15:00', periods=8, freq='4H15T')\n",
    "print(index)"
   ]
  },
  {
   "cell_type": "code",
   "execution_count": 32,
   "metadata": {},
   "outputs": [
    {
     "name": "stdout",
     "output_type": "stream",
     "text": [
      "2022-09-06 06:30:00    1\n",
      "2022-09-06 10:45:00    2\n",
      "2022-09-06 15:00:00    3\n",
      "2022-09-06 19:15:00    4\n",
      "2022-09-06 23:30:00    5\n",
      "2022-09-07 03:45:00    6\n",
      "2022-09-07 08:00:00    7\n",
      "2022-09-07 12:15:00    8\n",
      "Freq: 255T, dtype: int32\n",
      "2022-08-31 02:30:00    1\n",
      "2022-08-31 06:45:00    2\n",
      "2022-08-31 11:00:00    3\n",
      "2022-08-31 15:15:00    4\n",
      "2022-08-31 19:30:00    5\n",
      "2022-08-31 23:45:00    6\n",
      "2022-09-01 04:00:00    7\n",
      "2022-09-01 08:15:00    8\n",
      "Freq: 255T, dtype: int32\n"
     ]
    }
   ],
   "source": [
    "wdate = pd.Series(np.arange(1, 9), index=index)\n",
    "print(wdate.shift(3, freq='2D'))\n",
    "print(wdate.shift(-2, freq='2H'))"
   ]
  },
  {
   "cell_type": "code",
   "execution_count": 23,
   "metadata": {},
   "outputs": [
    {
     "name": "stdout",
     "output_type": "stream",
     "text": [
      "2022-08-31 06:00    1\n",
      "2022-08-31 10:00    2\n",
      "2022-08-31 15:00    3\n",
      "2022-08-31 19:00    4\n",
      "2022-08-31 23:00    5\n",
      "2022-09-01 03:00    6\n",
      "2022-09-01 08:00    7\n",
      "2022-09-01 12:00    8\n",
      "Freq: H, dtype: int32\n"
     ]
    }
   ],
   "source": [
    "PS = wdate.to_period(freq='H')\n",
    "print(PS)"
   ]
  },
  {
   "cell_type": "code",
   "execution_count": 24,
   "metadata": {},
   "outputs": [
    {
     "data": {
      "text/plain": [
       "2022-08-31    15\n",
       "2022-09-01    21\n",
       "Freq: D, dtype: int32"
      ]
     },
     "execution_count": 24,
     "metadata": {},
     "output_type": "execute_result"
    }
   ],
   "source": [
    "PS.resample('D').sum()"
   ]
  },
  {
   "cell_type": "code",
   "execution_count": 25,
   "metadata": {},
   "outputs": [
    {
     "name": "stdout",
     "output_type": "stream",
     "text": [
      "2022-08-31 00:00     1\n",
      "2022-08-31 08:00     5\n",
      "2022-08-31 16:00     9\n",
      "2022-09-01 00:00     6\n",
      "2022-09-01 08:00    15\n",
      "Freq: 8H, dtype: int32\n"
     ]
    }
   ],
   "source": [
    "PS.resample('8H', closed='left').sum()"
   ]
  },
  {
   "cell_type": "code",
   "execution_count": 13,
   "metadata": {},
   "outputs": [
    {
     "name": "stdout",
     "output_type": "stream",
     "text": [
      "2022-08-31 00:00     1\n",
      "2022-08-31 08:00     5\n",
      "2022-08-31 16:00     9\n",
      "2022-09-01 00:00     6\n",
      "2022-09-01 08:00    15\n",
      "Freq: 8H, dtype: int32\n"
     ]
    }
   ],
   "source": [
    "PS.resample('8H', closed='right', label='right').sum()"
   ]
  },
  {
   "cell_type": "code",
   "execution_count": 14,
   "metadata": {},
   "outputs": [
    {
     "data": {
      "text/plain": [
       "2022-08-31 06:00    1\n",
       "2022-08-31 08:00    1\n",
       "2022-08-31 10:00    2\n",
       "2022-08-31 12:00    2\n",
       "2022-08-31 14:00    2\n",
       "2022-08-31 16:00    3\n",
       "2022-08-31 18:00    3\n",
       "2022-08-31 20:00    4\n",
       "2022-08-31 22:00    4\n",
       "2022-09-01 00:00    5\n",
       "2022-09-01 02:00    5\n",
       "2022-09-01 04:00    6\n",
       "2022-09-01 06:00    6\n",
       "2022-09-01 08:00    7\n",
       "2022-09-01 10:00    7\n",
       "2022-09-01 12:00    8\n",
       "Freq: 2H, dtype: int32"
      ]
     },
     "execution_count": 14,
     "metadata": {},
     "output_type": "execute_result"
    }
   ],
   "source": [
    "PS.resample('2H').ffill()"
   ]
  }
 ],
 "metadata": {
  "kernelspec": {
   "display_name": "base",
   "language": "python",
   "name": "python3"
  },
  "language_info": {
   "codemirror_mode": {
    "name": "ipython",
    "version": 3
   },
   "file_extension": ".py",
   "mimetype": "text/x-python",
   "name": "python",
   "nbconvert_exporter": "python",
   "pygments_lexer": "ipython3",
   "version": "3.9.7 (default, Sep 16 2021, 16:59:28) [MSC v.1916 64 bit (AMD64)]"
  },
  "vscode": {
   "interpreter": {
    "hash": "b09ec625f77bf4fd762565a912b97636504ad6ec901eb2d0f4cf5a7de23e1ee5"
   }
  }
 },
 "nbformat": 4,
 "nbformat_minor": 2
}
