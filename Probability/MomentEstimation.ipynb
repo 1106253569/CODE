{
 "cells": [
  {
   "cell_type": "code",
   "execution_count": 22,
   "metadata": {},
   "outputs": [
    {
     "name": "stdout",
     "output_type": "stream",
     "text": [
      "M1=5.7900\n",
      "B2=3.70590\n",
      "a= 2.455678479810323\n",
      "b= 9.124321520189678\n"
     ]
    }
   ],
   "source": [
    "import numpy as np  #导入numpy\n",
    "from scipy.stats import binom  #导入uniform\n",
    "\n",
    "m = 19\n",
    "p = 0.3\n",
    "\n",
    "x = np.random.binomial(m, p, size=100)\n",
    "a1 = x.mean()  #1阶样本原点矩\n",
    "print('M1=%.4f' % a1)  #总体均值的矩估计\n",
    "a2 = (x**2).mean()  #2阶样本原点矩\n",
    "print('B2=%.5f' % (a2 - a1**2))  #总体方差的矩估计\n",
    "a = a1 - np.sqrt(3 * (a2 - a1**2))\n",
    "b = a1 + np.sqrt(3 * (a2 - a1**2))\n",
    "print(\"a=\", a)\n",
    "print(\"b=\", b)"
   ]
  },
  {
   "cell_type": "code",
   "execution_count": 23,
   "metadata": {},
   "outputs": [
    {
     "name": "stdout",
     "output_type": "stream",
     "text": [
      "一阶原点矩= 123.92592592592592 二阶中心矩= 15522.666666666666\n",
      "a= 123.92592592592592\n",
      "b= 165.0315500685861\n",
      "理论分析的计算结果为 -0.9973305853488456 -124.25762104004781\n"
     ]
    }
   ],
   "source": [
    "from scipy.optimize import fsolve  #导入解方程组的包\n",
    "import numpy as np\n",
    "\n",
    "data = np.array([\n",
    "    100, 130, 120, 138, 110, 110, 115, 134, 120, 122, 110, 120, 115, 162, 130,\n",
    "    130, 110, 147, 122, 131, 110, 138, 124, 122, 126, 120, 130\n",
    "])\n",
    "l = len(data)\n",
    "#计算样本均值\n",
    "s1 = 0\n",
    "s2 = 0\n",
    "#计算样本均值\n",
    "M1 = data.mean()\n",
    "#计算样本二阶中心矩\n",
    "B2 = (data**2).mean()\n",
    "\n",
    "\n",
    "#解方程组求解m,p\n",
    "def func(i):\n",
    "    mu, sigma2 = i[0], i[1]\n",
    "    return [mu - M1, mu**2 + sigma2 - B2]\n",
    "\n",
    "\n",
    "r = fsolve(func, [5, 0.3])\n",
    "print('一阶原点矩=', M1, '二阶中心矩=', B2)\n",
    "print('a=', r[0])\n",
    "print('b=', r[1])\n",
    "print('理论分析的计算结果为', M1**2 / (M1 - B2), 1 - B2 / M1)  #验证结果"
   ]
  },
  {
   "cell_type": "code",
   "execution_count": 24,
   "metadata": {},
   "outputs": [
    {
     "name": "stdout",
     "output_type": "stream",
     "text": [
      "θ的矩估计量为 [-0.571428571428571] 理论分析的计算结果为 0.6\n"
     ]
    }
   ],
   "source": [
    "from sympy import symbols \n",
    "import numpy as np\n",
    "\n",
    "data=np.array([0.1,0.4,0.5,0.3,0.2])\n",
    "x=symbols('x')\n",
    "theta=symbols('theta')\n",
    "\n",
    "M1=np.mean(data)\n",
    "fx=M1-(theta+1)/(theta+2)\n",
    "r1 = sympy.solve(fx, theta)  #  Ex是总体一阶原点矩，等于均值u\n",
    "print(\"θ的矩估计量为\", r1, '理论分析的计算结果为', 2 * M1)"
   ]
  },
  {
   "cell_type": "code",
   "execution_count": 25,
   "metadata": {},
   "outputs": [
    {
     "name": "stdout",
     "output_type": "stream",
     "text": [
      "X的期望= theta/3\n",
      "θ的矩估计量为 [15.4285714285714] 理论分析的计算结果为 15.42857142857143\n"
     ]
    }
   ],
   "source": [
    "import numpy as np\n",
    "import sympy\n",
    "from sympy import symbols\n",
    "\n",
    "theta = symbols('theta')\n",
    "x = symbols('x')\n",
    "data =np.array([2, 3, 3, 5, 6, 8, 9])\n",
    "\n",
    "l = data.size  #样本容量\n",
    "u = np.mean(data)\n",
    "fx = 2 * x * (theta - x) / (theta**2)  #密度函数\n",
    "Ex = sympy.integrate(fx, (x, 0, theta))  # EX为 xf(x)在0~1下的积分\n",
    "print('X的期望=', Ex)\n",
    "\n",
    "r1 = sympy.solve(Ex - u, theta)  #  Ex是总体一阶原点矩，等于均值u\n",
    "print(\"θ的矩估计量为\", r1, '理论分析的计算结果为', 3 * u)\n"
   ]
  }
 ],
 "metadata": {
  "interpreter": {
   "hash": "a8f61be024eba58adef938c9aa1e29e02cb3dece83a5348b1a2dafd16a070453"
  },
  "kernelspec": {
   "display_name": "Python 3.9.7 ('base')",
   "language": "python",
   "name": "python3"
  },
  "language_info": {
   "codemirror_mode": {
    "name": "ipython",
    "version": 3
   },
   "file_extension": ".py",
   "mimetype": "text/x-python",
   "name": "python",
   "nbconvert_exporter": "python",
   "pygments_lexer": "ipython3",
   "version": "3.9.7"
  },
  "orig_nbformat": 4
 },
 "nbformat": 4,
 "nbformat_minor": 2
}
