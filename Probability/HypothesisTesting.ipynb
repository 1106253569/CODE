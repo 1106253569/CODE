{
 "cells": [
  {
   "cell_type": "markdown",
   "metadata": {},
   "source": [
    "# 假设检验\n"
   ]
  },
  {
   "cell_type": "code",
   "execution_count": 1,
   "metadata": {},
   "outputs": [
    {
     "name": "stdout",
     "output_type": "stream",
     "text": [
      "均值 20.1\n",
      "分位数值 1.959963984540054\n",
      "统计值 1.26491106406737\n",
      "接受原假设\n",
      "pi的值是 0.20590321073206175\n",
      "接受原假设\n"
     ]
    }
   ],
   "source": [
    "import numpy as np\n",
    "import scipy.stats as st\n",
    "\n",
    "data = [19.8, 20.3, 20.4, 19.9, 20.2, 19.6, 20.5, 20.1]\n",
    "x1 = np.mean(data)\n",
    "B2 = np.std(data)**2\n",
    "print(\"均值\", x1)\n",
    "n = len(data)\n",
    "u0 = 20\n",
    "\n",
    "\n",
    "def oneutest(sigma, alpha):\n",
    "    u = (x1 - u0) * np.sqrt(n) / sigma\n",
    "    U_percentile = st.norm.ppf(1 - alpha / 2)\n",
    "    print(\"分位数值\", U_percentile)\n",
    "    print(\"统计值\", u)\n",
    "    if (abs(u) < U_percentile):\n",
    "        print(\"接受原假设\")\n",
    "    else:\n",
    "        print(\"拒绝\")\n",
    "    p1 = 2 - 2 * st.norm.cdf(u)\n",
    "    print(\"pi的值是\", p1)\n",
    "    if p1 > alpha:\n",
    "        print(\"接受原假设\")\n",
    "    else:\n",
    "        print(\"拒绝原假设\")\n",
    "\n",
    "\n",
    "oneutest(sigma=np.sqrt(0.05), alpha=0.05)\n"
   ]
  },
  {
   "cell_type": "code",
   "execution_count": 1,
   "metadata": {},
   "outputs": [
    {
     "name": "stdout",
     "output_type": "stream",
     "text": [
      "均值 3.252\n",
      "分位数值 4.604094871415897\n",
      "统计值 341.52831249443483\n",
      "拒绝\n",
      "pi的值是 4.409805853811122e-10\n",
      "拒绝原假设\n"
     ]
    }
   ],
   "source": [
    "import numpy as np\n",
    "import scipy.stats as st\n",
    "\n",
    "data = [3.25,3.27,3.24,3.26, 3.24]\n",
    "x1 = np.mean(data)\n",
    "B2 = np.std(data)**2\n",
    "print(\"均值\", x1)\n",
    "n = len(data)\n",
    "u0 = 0\n",
    "s = np.std(data, ddof=3.5)\n",
    "\n",
    "\n",
    "def oneutest(alpha):\n",
    "    t = (x1 - u0) * np.sqrt(n) / s\n",
    "    T_percentile = st.t.ppf(1 - alpha / 2, n - 1)\n",
    "    print(\"分位数值\", T_percentile)\n",
    "    print(\"统计值\", t)\n",
    "    if (abs(t) < T_percentile):\n",
    "        print(\"接受\")\n",
    "    else:\n",
    "        print(\"拒绝\")\n",
    "    p1 = 2 - 2 * st.t.cdf(t, n - 1)\n",
    "    print(\"pi的值是\", p1)\n",
    "    if p1 > alpha:\n",
    "        print(\"接受原假设\")\n",
    "    else:\n",
    "        print(\"拒绝原假设\")\n",
    "\n",
    "\n",
    "oneutest(alpha=0.01)"
   ]
  },
  {
   "cell_type": "code",
   "execution_count": 5,
   "metadata": {},
   "outputs": [
    {
     "name": "stdout",
     "output_type": "stream",
     "text": [
      "接受原假设\n",
      "kf0= 11.71875\n",
      "p值大于显著性水平alpha\n",
      "p1= 0.4592663776547665\n"
     ]
    }
   ],
   "source": [
    "import scipy.stats as st\n",
    "import numpy as np\n",
    "\n",
    "data = [100, 110, 101, 105, 95, 98, 80, 114, 100]\n",
    "x1 = np.mean(data)\n",
    "s = 0\n",
    "for i in range(0, 9):\n",
    "    k = data[i]\n",
    "    s = s + (k - x1)**2\n",
    "M2 = s / (len(data) - 1)\n",
    "\n",
    "\n",
    "def onekftest(sigma, alpha):\n",
    "    t = 0\n",
    "    for i in range(0, 9):\n",
    "        k1 = data[i]\n",
    "        t = t + (k1 - x1)**2\n",
    "    kf0 = t / sigma\n",
    "    kf_percentile = st.chi2.ppf(1 - alpha / 2, 9)\n",
    "    if abs(kf0) < kf_percentile:\n",
    "        print(\"接受原假设\")\n",
    "        print('kf0=', kf0)\n",
    "    else:\n",
    "        print(\"拒绝原假设\")\n",
    "        print('kf0=', kf0)\n",
    "    p1 = 2 * (min(1 - st.chi2.cdf(kf0, 9), st.chi2.cdf(kf0, 9)))\n",
    "    if p1 > alpha:\n",
    "        print(\"p值大于显著性水平alpha\")\n",
    "        print('p1=', p1)\n",
    "    else:\n",
    "        print(\"p值小于显著性水平alpha\")\n",
    "        print('p1=', p1)\n",
    "\n",
    "\n",
    "onekftest(64, 0.05)\n"
   ]
  },
  {
   "cell_type": "code",
   "execution_count": 6,
   "metadata": {},
   "outputs": [
    {
     "name": "stdout",
     "output_type": "stream",
     "text": [
      "分位数值 19.02276779864163\n",
      "统计值 11.71875\n",
      "接受\n",
      "pi的值是 0.32840115692035354\n",
      "接受原假设\n"
     ]
    }
   ],
   "source": [
    "import numpy as np\n",
    "import scipy.stats as st\n",
    "\n",
    "data = [100, 110, 101, 105, 95, 98, 80, 114, 100]\n",
    "x1 = np.mean(data)\n",
    "n = len(data)\n",
    "segma = 64\n",
    "s = 0\n",
    "for i in range(0, n):\n",
    "    k = data[i]\n",
    "    s = s + (k - x1)**2\n",
    "S = s / (n - 1)\n",
    "\n",
    "\n",
    "def oneutest(alpha):\n",
    "    x = (n - 1) * S / segma\n",
    "    X_percentile = st.chi2.ppf(1 - alpha / 2, n)\n",
    "    print(\"分位数值\", X_percentile)\n",
    "    print(\"统计值\", x)\n",
    "    if (abs(x) < X_percentile):\n",
    "        print(\"接受\")\n",
    "    else:\n",
    "        print(\"拒绝\")\n",
    "    p1 = 2 * (min(1 - st.chi2.cdf(x, n - 1), st.chi2.cdf(x, n - 1)))\n",
    "    print(\"pi的值是\", p1)\n",
    "    if p1 > alpha:\n",
    "        print(\"接受原假设\")\n",
    "    else:\n",
    "        print(\"拒绝原假设\")\n",
    "\n",
    "\n",
    "oneutest(alpha=0.05)"
   ]
  },
  {
   "cell_type": "code",
   "execution_count": 3,
   "metadata": {},
   "outputs": [
    {
     "name": "stdout",
     "output_type": "stream",
     "text": [
      "接受原假设\n",
      "p值>显著性水平alpha\n"
     ]
    }
   ],
   "source": [
    "import scipy.stats as st\n",
    "import numpy as np\n",
    "\n",
    "x1 = 28\n",
    "y1 = 26\n",
    "M1 = 35.8\n",
    "M2 = 32.3\n",
    "\n",
    "\n",
    "def twoFtest(alpha):\n",
    "    F0 = M1 / M2\n",
    "    F_percentile1 = st.f.ppf(1 - alpha / 2, 9, 9)\n",
    "    F_percentile2 = st.f.ppf(alpha / 2, 9, 9)\n",
    "    if F_percentile2 < F0 < F_percentile1:\n",
    "        print(\"接受原假设\")\n",
    "    else:\n",
    "        print(\"拒绝原假设\")\n",
    "    p = 2 * (min(1 - st.f.cdf(F0, 9, 9), st.f.cdf(F0, 9, 9)))\n",
    "    if (p > alpha):\n",
    "        print(\"p值>显著性水平alpha\")\n",
    "    if (p == alpha):\n",
    "        print(\"p值=显著性水平alpha\")\n",
    "    if (p < alpha):\n",
    "        print(\"p值<显著性水平alpha\")\n",
    "\n",
    "\n",
    "twoFtest(0.05)\n"
   ]
  },
  {
   "cell_type": "code",
   "execution_count": null,
   "metadata": {},
   "outputs": [],
   "source": [
    "import scipy.stats as st\n",
    "import statsmodels.api as sm\n",
    "import numpy as np\n",
    "x=[2.07,3.1,4.14,5.17,6.2]\n",
    "y=[128,194,273,372,454]\n",
    "M1=np.mean(x)\n",
    "M2=np.mean(y)\n",
    "l1=len(x)\n",
    "l2=len(y)\n",
    "alpha=0.01\n",
    "lyy=0\n",
    "lxx=0\n",
    "u=0\n",
    "M=0\n",
    "for i in range(0,l1):\n",
    "    k=x[i]\n",
    "    s=y[i]\n",
    "    lxx=lxx+(k-M1)**2\n",
    "    lyy=lyy+(s-M2)**2\n",
    "    u=u+k*s\n",
    "lxy=u-l1*M1*l2*M2/l1\n",
    "beita=lxy/lxx\n",
    "beita0=M2-beita*M1\n",
    "Sr=beita*beita*lxx\n",
    "Se=lyy-Sr\n",
    "F=(l1-2)*Sr/Se\n",
    "F1=st.f.ppf(1-alpha/2,1,3)\n",
    "if F>F1:\n",
    "    print(\"拒绝原假设,回归效果显著\")\n",
    "else:\n",
    "    print(\"接受原假设，回归效果不显著\")\n"
   ]
  },
  {
   "cell_type": "code",
   "execution_count": null,
   "metadata": {},
   "outputs": [],
   "source": [
    "import scipy.stats as st\n",
    "import statsmodels.api as sm\n",
    "import numpy as np\n",
    "\n",
    "x = [0, 4, 10, 15, 21, 29, 36, 51, 68]\n",
    "y = [66.7, 71.0, 76.3, 80.6, 85.7, 92.9, 99.4, 113.6, 125.1]\n",
    "M1 = np.mean(x)\n",
    "M2 = np.mean(y)\n",
    "l1 = len(x)\n",
    "l2 = len(y)\n",
    "alpha = 0.01\n",
    "lyy = 0\n",
    "lxx = 0\n",
    "u = 0\n",
    "M = 0\n",
    "for i in range(0, l1):\n",
    "    k = x[i]\n",
    "    s = y[i]\n",
    "    lxx = lxx + (k - M1)**2\n",
    "    lyy = lyy + (s - M2)**2\n",
    "    u = u + k * s\n",
    "lxy = u - l1 * M1 * l2 * M2 / l1\n",
    "beita = lxy / lxx\n",
    "beita0 = M2 - beita * M1\n",
    "Sr = beita * beita * lxx\n",
    "Se = lyy - Sr\n",
    "F = (l1 - 2) * Sr / Se\n",
    "F1 = st.f.ppf(1 - alpha / 2, 1, 3)\n",
    "if F > F1:\n",
    "    print(\"拒绝原假设,回归效果显著\")\n",
    "else:\n",
    "    print(\"接受原假设，回归效果不显著\")\n"
   ]
  },
  {
   "cell_type": "code",
   "execution_count": 5,
   "metadata": {},
   "outputs": [
    {
     "name": "stdout",
     "output_type": "stream",
     "text": [
      "                            OLS Regression Results                            \n",
      "==============================================================================\n",
      "Dep. Variable:                      y   R-squared:                       0.998\n",
      "Model:                            OLS   Adj. R-squared:                  0.998\n",
      "Method:                 Least Squares   F-statistic:                     3344.\n",
      "Date:                Fri, 03 Jun 2022   Prob (F-statistic):           1.21e-10\n",
      "Time:                        13:58:38   Log-Likelihood:                -11.266\n",
      "No. Observations:                   9   AIC:                             26.53\n",
      "Df Residuals:                       7   BIC:                             26.93\n",
      "Df Model:                           1                                         \n",
      "Covariance Type:            nonrobust                                         \n",
      "==============================================================================\n",
      "                 coef    std err          t      P>|t|      [0.025      0.975]\n",
      "------------------------------------------------------------------------------\n",
      "const         67.5078      0.505    133.553      0.000      66.313      68.703\n",
      "x1             0.8706      0.015     57.826      0.000       0.835       0.906\n",
      "==============================================================================\n",
      "Omnibus:                        1.637   Durbin-Watson:                   2.035\n",
      "Prob(Omnibus):                  0.441   Jarque-Bera (JB):                0.048\n",
      "Skew:                           0.051   Prob(JB):                        0.977\n",
      "Kurtosis:                       3.341   Cond. No.                         53.1\n",
      "==============================================================================\n",
      "\n",
      "Notes:\n",
      "[1] Standard Errors assume that the covariance matrix of the errors is correctly specified.\n"
     ]
    },
    {
     "name": "stderr",
     "output_type": "stream",
     "text": [
      "d:\\Anaconda3\\lib\\site-packages\\scipy\\stats\\stats.py:1541: UserWarning: kurtosistest only valid for n>=20 ... continuing anyway, n=9\n",
      "  warnings.warn(\"kurtosistest only valid for n>=20 ... continuing \"\n"
     ]
    }
   ],
   "source": [
    "import statsmodels.api as sm\n",
    "\n",
    "X = [0, 4, 10, 15, 21, 29, 36, 51, 68]\n",
    "Y = [66.7, 71.0, 76.3, 80.6, 85.7, 92.9, 99.4, 113.6, 125.1]\n",
    "X1 = sm.add_constant(X)  # 向 x1 左侧添加截距列 x0=[1,...1]\n",
    "model = sm.OLS(Y, X1)  # 建立最小二乘模型（OLS）\n",
    "results = model.fit()  # 返回模型拟合结果\n",
    "print(results.summary())  # 输出回归分析的摘要\n"
   ]
  },
  {
   "cell_type": "code",
   "execution_count": 6,
   "metadata": {},
   "outputs": [
    {
     "name": "stdout",
     "output_type": "stream",
     "text": [
      "                            OLS Regression Results                            \n",
      "==============================================================================\n",
      "Dep. Variable:                      y   R-squared:                       0.998\n",
      "Model:                            OLS   Adj. R-squared:                  0.998\n",
      "Method:                 Least Squares   F-statistic:                     3344.\n",
      "Date:                Fri, 03 Jun 2022   Prob (F-statistic):           1.21e-10\n",
      "Time:                        14:02:47   Log-Likelihood:                -11.266\n",
      "No. Observations:                   9   AIC:                             26.53\n",
      "Df Residuals:                       7   BIC:                             26.93\n",
      "Df Model:                           1                                         \n",
      "Covariance Type:            nonrobust                                         \n",
      "==============================================================================\n",
      "                 coef    std err          t      P>|t|      [0.025      0.975]\n",
      "------------------------------------------------------------------------------\n",
      "const         67.5078      0.505    133.553      0.000      66.313      68.703\n",
      "x1             0.8706      0.015     57.826      0.000       0.835       0.906\n",
      "==============================================================================\n",
      "Omnibus:                        1.637   Durbin-Watson:                   2.035\n",
      "Prob(Omnibus):                  0.441   Jarque-Bera (JB):                0.048\n",
      "Skew:                           0.051   Prob(JB):                        0.977\n",
      "Kurtosis:                       3.341   Cond. No.                         53.1\n",
      "==============================================================================\n",
      "\n",
      "Notes:\n",
      "[1] Standard Errors assume that the covariance matrix of the errors is correctly specified.\n"
     ]
    },
    {
     "name": "stderr",
     "output_type": "stream",
     "text": [
      "d:\\Anaconda3\\lib\\site-packages\\scipy\\stats\\stats.py:1541: UserWarning: kurtosistest only valid for n>=20 ... continuing anyway, n=9\n",
      "  warnings.warn(\"kurtosistest only valid for n>=20 ... continuing \"\n"
     ]
    }
   ],
   "source": [
    "import statsmodels.api as sm\n",
    "X=[0,4,10,15,21,29,36,51,68]\n",
    "Y=[66.7,71.0,76.3,80.6,85.7,92.9,99.4,113.6,125.1]\n",
    "X1 = sm.add_constant(X) # 向 x1 左侧添加截距列 x0=[1,...1]\n",
    "model = sm.OLS(Y, X1) # 建立最小二乘模型（OLS）\n",
    "results = model.fit() # 返回模型拟合结果\n",
    "print(results.summary()) # 输出回归分析的摘要\n"
   ]
  },
  {
   "cell_type": "code",
   "execution_count": 9,
   "metadata": {},
   "outputs": [
    {
     "name": "stdout",
     "output_type": "stream",
     "text": [
      "拒绝原假设,回归效果显著\n",
      "常数项= 67.50779419813905 回归方程系数= 0.8706403940886689 自变量的离差平方和= 4060.0 lyy= 3083.982222222222 lxy= 3534.7999999999956 F的值： 3343.824042912816 Sr= 3077.539665024623 Se= 6.442557197598944\n"
     ]
    }
   ],
   "source": [
    "import scipy.stats as st\n",
    "import statsmodels.api as sm\n",
    "import numpy as np\n",
    "x=[0,4,10,15,21,29,36,51,68]\n",
    "y=[66.7,71.0,76.3,80.6,85.7,92.9,99.4,113.6,125.1]\n",
    "M1=np.mean(x)\n",
    "M2=np.mean(y)\n",
    "l1=len(x)\n",
    "l2=len(y)\n",
    "alpha=0.01\n",
    "lyy=0\n",
    "lxx=0\n",
    "u=0\n",
    "M=0\n",
    "for i in range(0,l1):\n",
    "    k=x[i]\n",
    "    s=y[i]\n",
    "    lxx=lxx+(k-M1)**2\n",
    "    lyy=lyy+(s-M2)**2\n",
    "    u=u+k*s\n",
    "lxy=u-l1*M1*l2*M2/l1\n",
    "beita=lxy/lxx\n",
    "beita0=M2-beita*M1\n",
    "Sr=beita*beita*lxx\n",
    "Se=lyy-Sr\n",
    "F=(l1-2)*Sr/Se\n",
    "F1=st.f.ppf(1-alpha/2,1,3)\n",
    "if F>F1:\n",
    "    print(\"拒绝原假设,回归效果显著\")\n",
    "else:\n",
    "    print(\"接受原假设，回归效果不显著\")\n",
    "print('常数项=',beita0,'回归方程系数=',beita,'自变量的离差平方和=',lxx,'lyy=',lyy,'lxy=',lxy,'F的值：',F,'Sr=',Sr,'Se=',Se)\n"
   ]
  }
 ],
 "metadata": {
  "kernelspec": {
   "display_name": "Python 3.9.7 ('base')",
   "language": "python",
   "name": "python3"
  },
  "language_info": {
   "codemirror_mode": {
    "name": "ipython",
    "version": 3
   },
   "file_extension": ".py",
   "mimetype": "text/x-python",
   "name": "python",
   "nbconvert_exporter": "python",
   "pygments_lexer": "ipython3",
   "version": "3.9.7"
  },
  "orig_nbformat": 4,
  "vscode": {
   "interpreter": {
    "hash": "b09ec625f77bf4fd762565a912b97636504ad6ec901eb2d0f4cf5a7de23e1ee5"
   }
  }
 },
 "nbformat": 4,
 "nbformat_minor": 2
}
