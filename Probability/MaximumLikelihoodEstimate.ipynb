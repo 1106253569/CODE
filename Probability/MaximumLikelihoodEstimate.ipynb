{
 "cells": [
  {
   "cell_type": "code",
   "execution_count": 3,
   "metadata": {},
   "outputs": [
    {
     "data": {
      "image/png": "[encoded data removed]",
      "text/plain": [
       "<Figure size 432x288 with 1 Axes>"
      ]
     },
     "metadata": {
      "needs_background": "light"
     },
     "output_type": "display_data"
    },
    {
     "name": "stdout",
     "output_type": "stream",
     "text": [
      "(30.00833286866176, 2.005079216950665)\n"
     ]
    }
   ],
   "source": [
    "import numpy as np\n",
    "from scipy.stats import norm\n",
    "import matplotlib.pyplot as plt\n",
    "\n",
    "μ = 30  # 数学期望\n",
    "o = 2  # 方差\n",
    "x = μ + o * np.random.randn(10000)  # 正态分布\n",
    "plt.hist(x, bins=100)  # 直方图显示\n",
    "plt.show()\n",
    "print(norm.fit(x))  # 返回极大似然估计，估计出参数约为30和2"
   ]
  },
  {
   "cell_type": "code",
   "execution_count": 4,
   "metadata": {},
   "outputs": [
    {
     "name": "stdout",
     "output_type": "stream",
     "text": [
      "似然函数为 p**3*(1 - p)**3\n",
      "对数似然函数为 3*log(p) + log((1 - p)**3)\n",
      "微分方程为 -3/(1 - p) + 3/p\n",
      "解为 [1/2] 均值为 0.5\n"
     ]
    }
   ],
   "source": [
    "import numpy as np\n",
    "import sympy\n",
    "\n",
    "data = [0, 0, 1, 1, 0, 1]\n",
    "l = len(data)\n",
    "X = []\n",
    "p = sympy.symbols('p', positive=True)  #将p符号化\n",
    "for i in range(0, l):\n",
    "    k = data[i]\n",
    "    f = (p**k) * ((1 - p)**(1 - k))  #分布律或密度函数\n",
    "    X.append(f)  #X的元素为f(x1), f(x2) ,……,f(xn)。\n",
    "L = np.prod(\n",
    "    [X])  #似然函数， np.prod()函数用来计算所有元素的乘积，对于有多个维度的数组可以指定轴，如axis=1指定计算每一行的乘积。\n",
    "print('似然函数为', L)\n",
    "lnL = sympy.expand_log(sympy.log(L))  #取对数\n",
    "print('对数似然函数为', lnL)\n",
    "diff = sympy.diff(lnL, p)\n",
    "print('微分方程为', diff)\n",
    "solve = sympy.solve(diff)  #solve()函数解方程,利用diff()函数计算微分\n",
    "#diff(func,var,n):高阶微分\n",
    "print('解为', solve, '均值为', np.mean(data))\n"
   ]
  },
  {
   "cell_type": "code",
   "execution_count": 5,
   "metadata": {},
   "outputs": [
    {
     "name": "stdout",
     "output_type": "stream",
     "text": [
      "μ,σ的极大似然估计： [(2.00000000000000, -1.41421356237310), (2.00000000000000, 1.41421356237310)]\n"
     ]
    }
   ],
   "source": [
    "import sympy\n",
    "import numpy as np\n",
    "\n",
    "μ, σ = sympy.Symbol('a'), sympy.Symbol('b')\n",
    "x = [1, 2, 2, 1, 5, 1]\n",
    "y = []\n",
    "for i in range(0, len(x)):\n",
    "    k = x[i]\n",
    "    f = 1 / (σ * np.sqrt(2 * np.pi)) * np.e**(-(k - μ)**2 / (2 * σ**2))  #密度函数\n",
    "    y.append(f)\n",
    "L = np.prod(y)  #似然函数\n",
    "lnL = sympy.expand_log(sympy.log(L))  #取对数\n",
    "dlnL1 = sympy.diff(lnL, μ)  #求导\n",
    "dlnL2 = sympy.diff(lnL, σ)\n",
    "print('μ,σ的极大似然估计：', sympy.solve([dlnL1, dlnL2], [μ, σ]))\n"
   ]
  },
  {
   "cell_type": "code",
   "execution_count": 6,
   "metadata": {},
   "outputs": [
    {
     "name": "stdout",
     "output_type": "stream",
     "text": [
      "似然函数为 3.01877321369123e+26*p**31*(1 - p)**129\n",
      "对数似然函数为 31*log(p) + log((1 - p)**129) + 60.97206294607\n",
      "微分方程为 -129/(1 - p) + 31/p\n",
      "解为 [31/160] 均值为 3.875\n"
     ]
    }
   ],
   "source": [
    "import numpy as np\n",
    "import sympy\n",
    "\n",
    "data = [1, 2, 4, 2, 3, 5, 6, 8]\n",
    "l = len(data)\n",
    "X = []\n",
    "y = []\n",
    "\n",
    "\n",
    "def jie(i):\n",
    "    if i == 1:\n",
    "        k = i\n",
    "    else:\n",
    "        k = i * jie(i - 1)\n",
    "    return k\n",
    "\n",
    "\n",
    "p = sympy.symbols('p', positive=True)  #将p符号化\n",
    "for i in data:\n",
    "    k = jie(20) / (jie(20 - i) * jie(i))\n",
    "    s = k * p**i * (1 - p)**(20 - i)\n",
    "    y.append(s)\n",
    "\n",
    "L = np.prod(y)  # 极大似然函数\n",
    "print('似然函数为', L)\n",
    "lnL = sympy.expand_log(sympy.log(L))  #取对数\n",
    "print('对数似然函数为', lnL)\n",
    "diff = sympy.diff(lnL, p)\n",
    "print('微分方程为', diff)\n",
    "solve = sympy.solve(diff)  #solve()函数解方程,利用diff()函数计算微分\n",
    "#diff(func,var,n):高阶微分\n",
    "print('解为', solve, '均值为', np.mean(data))\n"
   ]
  },
  {
   "cell_type": "code",
   "execution_count": 7,
   "metadata": {},
   "outputs": [
    {
     "name": "stdout",
     "output_type": "stream",
     "text": [
      "方程的解为 [(2.00000000000000, 1.41421356237310)]\n"
     ]
    }
   ],
   "source": [
    "import sympy\n",
    "import numpy as np\n",
    "data = [1, 2, 2, 1, 5, 1]\n",
    "mu = sympy.symbols('mu')  #将μ符号化\n",
    "sigma = sympy.symbols('sigma', positive=True)  #将σ符号化\n",
    "pai = np.pi\n",
    "l = len(data)\n",
    "X = []\n",
    "for i in range(0, l):\n",
    "    k = data[i]\n",
    "    f = (1 / (np.sqrt(2 * pai) * sigma)) * np.e**(\n",
    "        (-(k - mu)**2) / (2 * sigma**2))  #密度函数\n",
    "    X.append(f)\n",
    "#print(X)\n",
    "L = np.prod(\n",
    "    X\n",
    ")  #似然函数,np.prod()函数用来计算所有元素的乘积，对于有多个维度的数组可以指定轴，如axis=1指定计算每一行的乘积。变量替换subs函数，用i替换x\n",
    "#print(L)\n",
    "lnL = sympy.expand_log(sympy.log(L))  #取对数\n",
    "#print(lnL)\n",
    "diff1 = sympy.diff(lnL, mu)  #对μ求偏导\n",
    "#print(diff1)\n",
    "\n",
    "diff2 = sympy.diff(lnL, sigma)\n",
    "#print(diff2)\n",
    "solve1 = sympy.solve([diff1, diff2], [mu, sigma])\n",
    "print('方程的解为', solve1)\n"
   ]
  },
  {
   "cell_type": "code",
   "execution_count": 8,
   "metadata": {},
   "outputs": [
    {
     "name": "stdout",
     "output_type": "stream",
     "text": [
      "(-a + b)**(-6)\n",
      "log((-a + b)**(-6))\n",
      "6/(-a + b)\n",
      "-6/(-a + b)\n",
      "方程的解为 []\n",
      "极大似然估计为: 1 4\n"
     ]
    }
   ],
   "source": [
    "import sympy\n",
    "\n",
    "data = [1, 2, 2, 2, 4, 3]\n",
    "a, b = sympy.symbols(\"a b\")  #将μ符号化\n",
    "l = len(data)\n",
    "X = []\n",
    "for i in range(0, l):\n",
    "    k = data[i]\n",
    "    f = 1 / (b - a)  #密度函数\n",
    "    X.append(f)\n",
    "#print(X)\n",
    "L = np.prod(\n",
    "    X\n",
    ")  #似然函数,np.prod()函数用来计算所有元素的乘积，对于有多个维度的数组可以指定轴，如axis=1指定计算每一行的乘积。变量替换subs函数，用i替换x\n",
    "print(L)\n",
    "lnL = sympy.expand_log(sympy.log(L))  #取对数\n",
    "print(lnL)\n",
    "diff1 = sympy.diff(lnL, a)  #对μ求偏导\n",
    "print(diff1)\n",
    "\n",
    "diff2 = sympy.diff(lnL, b)\n",
    "print(diff2)\n",
    "solve1 = sympy.solve([diff1, diff2], [a, b])\n",
    "print('方程的解为', solve1)\n",
    "b = np.max(data)\n",
    "a = np.min(data)\n",
    "print(\"极大似然估计为:\", a, b)\n"
   ]
  }
 ],
 "metadata": {
  "kernelspec": {
   "display_name": "Python 3.9.7 ('base')",
   "language": "python",
   "name": "python3"
  },
  "language_info": {
   "name": "python",
   "version": "3.9.7"
  },
  "orig_nbformat": 4,
  "vscode": {
   "interpreter": {
    "hash": "b09ec625f77bf4fd762565a912b97636504ad6ec901eb2d0f4cf5a7de23e1ee5"
   }
  }
 },
 "nbformat": 4,
 "nbformat_minor": 2
}
